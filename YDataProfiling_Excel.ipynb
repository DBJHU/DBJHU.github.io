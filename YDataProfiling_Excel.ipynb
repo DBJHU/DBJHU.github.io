{
  "nbformat": 4,
  "nbformat_minor": 0,
  "metadata": {
    "colab": {
      "provenance": [],
      "mount_file_id": "10KP8YdxqBfNWAE-QW3bE250he2GJ7XJa",
      "authorship_tag": "ABX9TyNpYUcWbVdygjwqYIqaK0hJ",
      "include_colab_link": true
    },
    "kernelspec": {
      "name": "python3",
      "display_name": "Python 3"
    },
    "language_info": {
      "name": "python"
    }
  },
  "cells": [
    {
      "cell_type": "markdown",
      "metadata": {
        "id": "view-in-github",
        "colab_type": "text"
      },
      "source": [
        "<a href=\"https://colab.research.google.com/github/DBJHU/DBJHU.github.io/blob/main/YDataProfiling_Excel.ipynb\" target=\"_parent\"><img src=\"https://colab.research.google.com/assets/colab-badge.svg\" alt=\"Open In Colab\"/></a>"
      ]
    },
    {
      "cell_type": "code",
      "source": [
        "!pip install pandas_profiling[notebook]\n"
      ],
      "metadata": {
        "id": "cnGd0un05aJh"
      },
      "execution_count": null,
      "outputs": []
    },
    {
      "cell_type": "code",
      "source": [
        "file_path = '/content/drive/MyDrive/YOURFILENAME.xlsx'  # Make sure the file name matches the uploaded file\n",
        "\n"
      ],
      "metadata": {
        "id": "yxy9Jxfv5hUP"
      },
      "execution_count": null,
      "outputs": []
    },
    {
      "cell_type": "code",
      "source": [
        "import pandas as pd\n",
        "from ydata_profiling import ProfileReport\n",
        "\n",
        "# Load the Excel file\n",
        "xls = pd.ExcelFile(file_path)\n",
        "\n",
        "\n"
      ],
      "metadata": {
        "id": "AMMNLBER5oEV"
      },
      "execution_count": null,
      "outputs": []
    },
    {
      "cell_type": "code",
      "source": [
        "# Loop through each sheet in the Excel file\n",
        "for sheet_name in xls.sheet_names:\n",
        "    df = pd.read_excel(file_path, sheet_name=sheet_name)\n",
        "\n",
        "    # Generate the profile report for the current sheet\n",
        "    profile = ProfileReport(df, title=f'Pandas Profiling Report - {sheet_name}', explorative=True)\n",
        "\n",
        "    # Save the report to an HTML file, naming it after the sheet\n",
        "    report_file_name = f\"pandas_profiling_report_{sheet_name}.html\"\n",
        "    profile.to_file(report_file_name)\n",
        "\n",
        "    # If you want to display the report within the notebook uncomment the next line\n",
        "    # profile.to_notebook_iframe()\n"
      ],
      "metadata": {
        "id": "DVLLnZT96q0I"
      },
      "execution_count": null,
      "outputs": []
    }
  ]
}
